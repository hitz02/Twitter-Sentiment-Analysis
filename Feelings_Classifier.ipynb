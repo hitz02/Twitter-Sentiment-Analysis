{
 "cells": [
  {
   "cell_type": "markdown",
   "metadata": {},
   "source": [
    "## Importing Utilities"
   ]
  },
  {
   "cell_type": "code",
   "execution_count": 1,
   "metadata": {
    "ExecuteTime": {
     "end_time": "2019-07-01T07:36:31.037398Z",
     "start_time": "2019-07-01T07:36:15.859817Z"
    }
   },
   "outputs": [],
   "source": [
    "import pandas as pd\n",
    "import numpy as np\n",
    "import os\n",
    "import re\n",
    "import spacy\n",
    "nlp = spacy.load('es_core_news_md')"
   ]
  },
  {
   "cell_type": "markdown",
   "metadata": {},
   "source": [
    "## Reading Data"
   ]
  },
  {
   "cell_type": "code",
   "execution_count": 2,
   "metadata": {
    "ExecuteTime": {
     "end_time": "2019-07-01T07:36:35.216920Z",
     "start_time": "2019-07-01T07:36:35.187751Z"
    }
   },
   "outputs": [],
   "source": [
    "train = pd.read_csv('Train_twitter_utf8_csv.csv')\n",
    "test = pd.read_csv('Test_twitter_utf8_csv.csv')"
   ]
  },
  {
   "cell_type": "code",
   "execution_count": 3,
   "metadata": {
    "ExecuteTime": {
     "end_time": "2019-07-01T07:36:35.603098Z",
     "start_time": "2019-07-01T07:36:35.579514Z"
    }
   },
   "outputs": [
    {
     "data": {
      "text/html": [
       "<div>\n",
       "<style scoped>\n",
       "    .dataframe tbody tr th:only-of-type {\n",
       "        vertical-align: middle;\n",
       "    }\n",
       "\n",
       "    .dataframe tbody tr th {\n",
       "        vertical-align: top;\n",
       "    }\n",
       "\n",
       "    .dataframe thead th {\n",
       "        text-align: right;\n",
       "    }\n",
       "</style>\n",
       "<table border=\"1\" class=\"dataframe\">\n",
       "  <thead>\n",
       "    <tr style=\"text-align: right;\">\n",
       "      <th></th>\n",
       "      <th>Unnamed: 0</th>\n",
       "      <th>tweetid</th>\n",
       "      <th>user</th>\n",
       "      <th>content</th>\n",
       "      <th>date</th>\n",
       "      <th>lang</th>\n",
       "      <th>polarity</th>\n",
       "    </tr>\n",
       "  </thead>\n",
       "  <tbody>\n",
       "    <tr>\n",
       "      <th>0</th>\n",
       "      <td>0,768213876278165504,OnceBukowski,\"-Me caes mu...</td>\n",
       "      <td>NaN</td>\n",
       "      <td>NaN</td>\n",
       "      <td>NaN</td>\n",
       "      <td>NaN</td>\n",
       "      <td>NaN</td>\n",
       "      <td>NaN</td>\n",
       "    </tr>\n",
       "    <tr>\n",
       "      <th>1</th>\n",
       "      <td>#¿NOMBRE?</td>\n",
       "      <td>NaN</td>\n",
       "      <td>NaN</td>\n",
       "      <td>NaN</td>\n",
       "      <td>NaN</td>\n",
       "      <td>NaN</td>\n",
       "      <td>NaN</td>\n",
       "    </tr>\n",
       "    <tr>\n",
       "      <th>2</th>\n",
       "      <td>-Por qué tan Otako</td>\n",
       "      <td>deja de ser otako</td>\n",
       "      <td>NaN</td>\n",
       "      <td>NaN</td>\n",
       "      <td>NaN</td>\n",
       "      <td>NaN</td>\n",
       "      <td>NaN</td>\n",
       "    </tr>\n",
       "    <tr>\n",
       "      <th>3</th>\n",
       "      <td>-Haber si me muero\",2016-08-23 22:30:35,es,NONE</td>\n",
       "      <td>NaN</td>\n",
       "      <td>NaN</td>\n",
       "      <td>NaN</td>\n",
       "      <td>NaN</td>\n",
       "      <td>NaN</td>\n",
       "      <td>NaN</td>\n",
       "    </tr>\n",
       "    <tr>\n",
       "      <th>4</th>\n",
       "      <td>1,768213567418036224,anahorxn,\"@myendlesshazza...</td>\n",
       "      <td>NaN</td>\n",
       "      <td>NaN</td>\n",
       "      <td>NaN</td>\n",
       "      <td>NaN</td>\n",
       "      <td>NaN</td>\n",
       "      <td>NaN</td>\n",
       "    </tr>\n",
       "  </tbody>\n",
       "</table>\n",
       "</div>"
      ],
      "text/plain": [
       "                                          Unnamed: 0             tweetid user  \\\n",
       "0  0,768213876278165504,OnceBukowski,\"-Me caes mu...                 NaN  NaN   \n",
       "1                                          #¿NOMBRE?                 NaN  NaN   \n",
       "2                                 -Por qué tan Otako   deja de ser otako  NaN   \n",
       "3    -Haber si me muero\",2016-08-23 22:30:35,es,NONE                 NaN  NaN   \n",
       "4  1,768213567418036224,anahorxn,\"@myendlesshazza...                 NaN  NaN   \n",
       "\n",
       "  content date lang polarity  \n",
       "0     NaN  NaN  NaN      NaN  \n",
       "1     NaN  NaN  NaN      NaN  \n",
       "2     NaN  NaN  NaN      NaN  \n",
       "3     NaN  NaN  NaN      NaN  \n",
       "4     NaN  NaN  NaN      NaN  "
      ]
     },
     "execution_count": 3,
     "metadata": {},
     "output_type": "execute_result"
    }
   ],
   "source": [
    "train.head()"
   ]
  },
  {
   "cell_type": "code",
   "execution_count": 4,
   "metadata": {
    "ExecuteTime": {
     "end_time": "2019-07-01T07:36:36.408166Z",
     "start_time": "2019-07-01T07:36:36.388628Z"
    }
   },
   "outputs": [
    {
     "data": {
      "text/html": [
       "<div>\n",
       "<style scoped>\n",
       "    .dataframe tbody tr th:only-of-type {\n",
       "        vertical-align: middle;\n",
       "    }\n",
       "\n",
       "    .dataframe tbody tr th {\n",
       "        vertical-align: top;\n",
       "    }\n",
       "\n",
       "    .dataframe thead th {\n",
       "        text-align: right;\n",
       "    }\n",
       "</style>\n",
       "<table border=\"1\" class=\"dataframe\">\n",
       "  <thead>\n",
       "    <tr style=\"text-align: right;\">\n",
       "      <th></th>\n",
       "      <th>Unnamed: 0</th>\n",
       "      <th>tweetid</th>\n",
       "      <th>user</th>\n",
       "      <th>content</th>\n",
       "      <th>date</th>\n",
       "      <th>lang</th>\n",
       "      <th>polarity</th>\n",
       "    </tr>\n",
       "  </thead>\n",
       "  <tbody>\n",
       "    <tr>\n",
       "      <th>0</th>\n",
       "      <td>0</td>\n",
       "      <td>770976639173951488</td>\n",
       "      <td>noseashetero</td>\n",
       "      <td>@noseashetero 1000/10 de verdad a ti que voy a...</td>\n",
       "      <td>2016-08-31 13:28:49</td>\n",
       "      <td>es</td>\n",
       "      <td>P</td>\n",
       "    </tr>\n",
       "    <tr>\n",
       "      <th>1</th>\n",
       "      <td>1</td>\n",
       "      <td>771092421866389508</td>\n",
       "      <td>Templelx</td>\n",
       "      <td>@piscolabisaereo @HistoriaNG @SPosteguillo las...</td>\n",
       "      <td>2016-08-31 21:08:54</td>\n",
       "      <td>es</td>\n",
       "      <td>P</td>\n",
       "    </tr>\n",
       "    <tr>\n",
       "      <th>2</th>\n",
       "      <td>2,771092111429083136,esskuu94,\"Al final han si...</td>\n",
       "      <td>NaN</td>\n",
       "      <td>NaN</td>\n",
       "      <td>NaN</td>\n",
       "      <td>NaN</td>\n",
       "      <td>NaN</td>\n",
       "      <td>NaN</td>\n",
       "    </tr>\n",
       "    <tr>\n",
       "      <th>3</th>\n",
       "      <td>3</td>\n",
       "      <td>771092070572449796</td>\n",
       "      <td>__ariadna9</td>\n",
       "      <td>@Jorge_Ruiz14 yo no tengo tiempo para esas cos...</td>\n",
       "      <td>2016-08-31 21:07:30</td>\n",
       "      <td>es</td>\n",
       "      <td>N</td>\n",
       "    </tr>\n",
       "    <tr>\n",
       "      <th>4</th>\n",
       "      <td>4</td>\n",
       "      <td>771094192508600320</td>\n",
       "      <td>_cristtina15_</td>\n",
       "      <td>@_MissChaotic_ ves ese brillo? es un coso que ...</td>\n",
       "      <td>2016-08-31 21:15:56</td>\n",
       "      <td>es</td>\n",
       "      <td>N</td>\n",
       "    </tr>\n",
       "  </tbody>\n",
       "</table>\n",
       "</div>"
      ],
      "text/plain": [
       "                                          Unnamed: 0             tweetid  \\\n",
       "0                                                  0  770976639173951488   \n",
       "1                                                  1  771092421866389508   \n",
       "2  2,771092111429083136,esskuu94,\"Al final han si...                 NaN   \n",
       "3                                                  3  771092070572449796   \n",
       "4                                                  4  771094192508600320   \n",
       "\n",
       "            user                                            content  \\\n",
       "0   noseashetero  @noseashetero 1000/10 de verdad a ti que voy a...   \n",
       "1       Templelx  @piscolabisaereo @HistoriaNG @SPosteguillo las...   \n",
       "2            NaN                                                NaN   \n",
       "3     __ariadna9  @Jorge_Ruiz14 yo no tengo tiempo para esas cos...   \n",
       "4  _cristtina15_  @_MissChaotic_ ves ese brillo? es un coso que ...   \n",
       "\n",
       "                  date lang polarity  \n",
       "0  2016-08-31 13:28:49   es        P  \n",
       "1  2016-08-31 21:08:54   es        P  \n",
       "2                  NaN  NaN      NaN  \n",
       "3  2016-08-31 21:07:30   es        N  \n",
       "4  2016-08-31 21:15:56   es        N  "
      ]
     },
     "execution_count": 4,
     "metadata": {},
     "output_type": "execute_result"
    }
   ],
   "source": [
    "test.head()"
   ]
  },
  {
   "cell_type": "markdown",
   "metadata": {},
   "source": [
    "## Taking only Content and Polarity"
   ]
  },
  {
   "cell_type": "code",
   "execution_count": 5,
   "metadata": {
    "ExecuteTime": {
     "end_time": "2019-07-01T07:36:38.431697Z",
     "start_time": "2019-07-01T07:36:38.425099Z"
    }
   },
   "outputs": [],
   "source": [
    "train_subset = train[['content','polarity']][train.polarity.isin(['P','N'])]\n",
    "test_subset = test[['content','polarity']][test.polarity.isin(['P','N'])]"
   ]
  },
  {
   "cell_type": "code",
   "execution_count": 6,
   "metadata": {
    "ExecuteTime": {
     "end_time": "2019-07-01T07:36:38.941927Z",
     "start_time": "2019-07-01T07:36:38.933108Z"
    }
   },
   "outputs": [
    {
     "data": {
      "text/html": [
       "<div>\n",
       "<style scoped>\n",
       "    .dataframe tbody tr th:only-of-type {\n",
       "        vertical-align: middle;\n",
       "    }\n",
       "\n",
       "    .dataframe tbody tr th {\n",
       "        vertical-align: top;\n",
       "    }\n",
       "\n",
       "    .dataframe thead th {\n",
       "        text-align: right;\n",
       "    }\n",
       "</style>\n",
       "<table border=\"1\" class=\"dataframe\">\n",
       "  <thead>\n",
       "    <tr style=\"text-align: right;\">\n",
       "      <th></th>\n",
       "      <th>content</th>\n",
       "      <th>polarity</th>\n",
       "    </tr>\n",
       "  </thead>\n",
       "  <tbody>\n",
       "    <tr>\n",
       "      <th>7</th>\n",
       "      <td>@estherct209 jajajaja la tuya y la d mucha gen...</td>\n",
       "      <td>N</td>\n",
       "    </tr>\n",
       "    <tr>\n",
       "      <th>8</th>\n",
       "      <td>Quiero mogollón a @AlbaBenito99 pero sobretodo...</td>\n",
       "      <td>P</td>\n",
       "    </tr>\n",
       "    <tr>\n",
       "      <th>9</th>\n",
       "      <td>Vale he visto la tia bebiendose su regla y me ...</td>\n",
       "      <td>N</td>\n",
       "    </tr>\n",
       "    <tr>\n",
       "      <th>10</th>\n",
       "      <td>@Yulian_Poe @guillermoterry1 Ah. mucho más por...</td>\n",
       "      <td>P</td>\n",
       "    </tr>\n",
       "    <tr>\n",
       "      <th>13</th>\n",
       "      <td>11. siiii fue super gracioso teniamos que habe...</td>\n",
       "      <td>P</td>\n",
       "    </tr>\n",
       "  </tbody>\n",
       "</table>\n",
       "</div>"
      ],
      "text/plain": [
       "                                              content polarity\n",
       "7   @estherct209 jajajaja la tuya y la d mucha gen...        N\n",
       "8   Quiero mogollón a @AlbaBenito99 pero sobretodo...        P\n",
       "9   Vale he visto la tia bebiendose su regla y me ...        N\n",
       "10  @Yulian_Poe @guillermoterry1 Ah. mucho más por...        P\n",
       "13  11. siiii fue super gracioso teniamos que habe...        P"
      ]
     },
     "execution_count": 6,
     "metadata": {},
     "output_type": "execute_result"
    }
   ],
   "source": [
    "train_subset.head()"
   ]
  },
  {
   "cell_type": "markdown",
   "metadata": {},
   "source": [
    "## Normalize the case"
   ]
  },
  {
   "cell_type": "code",
   "execution_count": 7,
   "metadata": {
    "ExecuteTime": {
     "end_time": "2019-07-01T07:36:41.701714Z",
     "start_time": "2019-07-01T07:36:41.571994Z"
    }
   },
   "outputs": [],
   "source": [
    "train_subset['content_norm'] = train_subset.apply(lambda row:row['content'].lower(),axis=1)\n",
    "test_subset['content_norm'] = test_subset.apply(lambda row:row['content'].lower(),axis=1)"
   ]
  },
  {
   "cell_type": "code",
   "execution_count": 8,
   "metadata": {
    "ExecuteTime": {
     "end_time": "2019-07-01T07:36:42.580065Z",
     "start_time": "2019-07-01T07:36:42.568442Z"
    }
   },
   "outputs": [
    {
     "data": {
      "text/html": [
       "<div>\n",
       "<style scoped>\n",
       "    .dataframe tbody tr th:only-of-type {\n",
       "        vertical-align: middle;\n",
       "    }\n",
       "\n",
       "    .dataframe tbody tr th {\n",
       "        vertical-align: top;\n",
       "    }\n",
       "\n",
       "    .dataframe thead th {\n",
       "        text-align: right;\n",
       "    }\n",
       "</style>\n",
       "<table border=\"1\" class=\"dataframe\">\n",
       "  <thead>\n",
       "    <tr style=\"text-align: right;\">\n",
       "      <th></th>\n",
       "      <th>content</th>\n",
       "      <th>polarity</th>\n",
       "      <th>content_norm</th>\n",
       "    </tr>\n",
       "  </thead>\n",
       "  <tbody>\n",
       "    <tr>\n",
       "      <th>7</th>\n",
       "      <td>@estherct209 jajajaja la tuya y la d mucha gen...</td>\n",
       "      <td>N</td>\n",
       "      <td>@estherct209 jajajaja la tuya y la d mucha gen...</td>\n",
       "    </tr>\n",
       "    <tr>\n",
       "      <th>8</th>\n",
       "      <td>Quiero mogollón a @AlbaBenito99 pero sobretodo...</td>\n",
       "      <td>P</td>\n",
       "      <td>quiero mogollón a @albabenito99 pero sobretodo...</td>\n",
       "    </tr>\n",
       "    <tr>\n",
       "      <th>9</th>\n",
       "      <td>Vale he visto la tia bebiendose su regla y me ...</td>\n",
       "      <td>N</td>\n",
       "      <td>vale he visto la tia bebiendose su regla y me ...</td>\n",
       "    </tr>\n",
       "    <tr>\n",
       "      <th>10</th>\n",
       "      <td>@Yulian_Poe @guillermoterry1 Ah. mucho más por...</td>\n",
       "      <td>P</td>\n",
       "      <td>@yulian_poe @guillermoterry1 ah. mucho más por...</td>\n",
       "    </tr>\n",
       "    <tr>\n",
       "      <th>13</th>\n",
       "      <td>11. siiii fue super gracioso teniamos que habe...</td>\n",
       "      <td>P</td>\n",
       "      <td>11. siiii fue super gracioso teniamos que habe...</td>\n",
       "    </tr>\n",
       "  </tbody>\n",
       "</table>\n",
       "</div>"
      ],
      "text/plain": [
       "                                              content polarity  \\\n",
       "7   @estherct209 jajajaja la tuya y la d mucha gen...        N   \n",
       "8   Quiero mogollón a @AlbaBenito99 pero sobretodo...        P   \n",
       "9   Vale he visto la tia bebiendose su regla y me ...        N   \n",
       "10  @Yulian_Poe @guillermoterry1 Ah. mucho más por...        P   \n",
       "13  11. siiii fue super gracioso teniamos que habe...        P   \n",
       "\n",
       "                                         content_norm  \n",
       "7   @estherct209 jajajaja la tuya y la d mucha gen...  \n",
       "8   quiero mogollón a @albabenito99 pero sobretodo...  \n",
       "9   vale he visto la tia bebiendose su regla y me ...  \n",
       "10  @yulian_poe @guillermoterry1 ah. mucho más por...  \n",
       "13  11. siiii fue super gracioso teniamos que habe...  "
      ]
     },
     "execution_count": 8,
     "metadata": {},
     "output_type": "execute_result"
    }
   ],
   "source": [
    "train_subset.head()"
   ]
  },
  {
   "cell_type": "markdown",
   "metadata": {},
   "source": [
    "## Remove stop words and punctuation"
   ]
  },
  {
   "cell_type": "code",
   "execution_count": 9,
   "metadata": {
    "ExecuteTime": {
     "end_time": "2019-07-01T07:36:45.621071Z",
     "start_time": "2019-07-01T07:36:43.923784Z"
    }
   },
   "outputs": [],
   "source": [
    "from nltk.corpus import stopwords\n",
    "import string\n",
    "stop_words = stopwords.words('spanish') + list(string.punctuation)"
   ]
  },
  {
   "cell_type": "markdown",
   "metadata": {},
   "source": [
    "## Assemble into a tokenize function"
   ]
  },
  {
   "cell_type": "code",
   "execution_count": 10,
   "metadata": {
    "ExecuteTime": {
     "end_time": "2019-07-01T07:36:47.949810Z",
     "start_time": "2019-07-01T07:36:47.944674Z"
    }
   },
   "outputs": [],
   "source": [
    "def tokenize(text):\n",
    "    doc = nlp(text)\n",
    "    pos_lemma = [token.lemma_ if token.pos_ in ['NOUN','ADJ'] else token.text for token in doc] ##lemmatize only Noun,Adjective\n",
    "    tokens = [word for word in pos_lemma if word not in stop_words] #Remove stop words and punctuation\n",
    "    return tokens"
   ]
  },
  {
   "cell_type": "code",
   "execution_count": 11,
   "metadata": {
    "ExecuteTime": {
     "end_time": "2019-07-01T07:36:49.313118Z",
     "start_time": "2019-07-01T07:36:49.310154Z"
    }
   },
   "outputs": [],
   "source": [
    "from sklearn.feature_extraction.text import CountVectorizer  "
   ]
  },
  {
   "cell_type": "code",
   "execution_count": 12,
   "metadata": {
    "ExecuteTime": {
     "end_time": "2019-07-01T07:36:49.963629Z",
     "start_time": "2019-07-01T07:36:49.958957Z"
    }
   },
   "outputs": [],
   "source": [
    "vectorizer = CountVectorizer(\n",
    "    analyzer = 'word',\n",
    "    tokenizer = tokenize,\n",
    "    lowercase = False,\n",
    "    max_features = 100 # we are only considering first 100 features for sentiment classification\n",
    ")"
   ]
  },
  {
   "cell_type": "code",
   "execution_count": 13,
   "metadata": {
    "ExecuteTime": {
     "end_time": "2019-07-01T07:36:54.095976Z",
     "start_time": "2019-07-01T07:36:51.065569Z"
    }
   },
   "outputs": [],
   "source": [
    "corpus_data_features = vectorizer.fit_transform(train_subset.content_norm.tolist())\n",
    "corpus_data_features_nd = corpus_data_features.toarray()"
   ]
  },
  {
   "cell_type": "code",
   "execution_count": 14,
   "metadata": {
    "ExecuteTime": {
     "end_time": "2019-07-01T07:36:54.764006Z",
     "start_time": "2019-07-01T07:36:54.758611Z"
    }
   },
   "outputs": [
    {
     "data": {
      "text/plain": [
       "array([[0, 0, 0, ..., 0, 0, 0],\n",
       "       [0, 0, 0, ..., 0, 0, 0],\n",
       "       [0, 0, 0, ..., 0, 0, 0],\n",
       "       ...,\n",
       "       [0, 0, 1, ..., 0, 0, 0],\n",
       "       [0, 0, 0, ..., 0, 0, 0],\n",
       "       [0, 0, 0, ..., 0, 0, 0]], dtype=int64)"
      ]
     },
     "execution_count": 14,
     "metadata": {},
     "output_type": "execute_result"
    }
   ],
   "source": [
    "corpus_data_features_nd"
   ]
  },
  {
   "cell_type": "code",
   "execution_count": 15,
   "metadata": {
    "ExecuteTime": {
     "end_time": "2019-07-01T07:36:55.444596Z",
     "start_time": "2019-07-01T07:36:55.438734Z"
    }
   },
   "outputs": [
    {
     "data": {
      "text/plain": [
       "(410, 100)"
      ]
     },
     "execution_count": 15,
     "metadata": {},
     "output_type": "execute_result"
    }
   ],
   "source": [
    "corpus_data_features_nd.shape"
   ]
  },
  {
   "cell_type": "markdown",
   "metadata": {},
   "source": [
    "## Importing Machine Learning Algorithm Logistic Regression for classification task"
   ]
  },
  {
   "cell_type": "code",
   "execution_count": 16,
   "metadata": {
    "ExecuteTime": {
     "end_time": "2019-07-01T07:36:57.380694Z",
     "start_time": "2019-07-01T07:36:57.377249Z"
    }
   },
   "outputs": [],
   "source": [
    "from sklearn.linear_model import LogisticRegression"
   ]
  },
  {
   "cell_type": "markdown",
   "metadata": {},
   "source": [
    "## Splitting the reviews into train and val sets in the ratio of 80:20\n",
    "## train set will be used for training the model to understand the data\n",
    "## val set will be used to check the performance of our model"
   ]
  },
  {
   "cell_type": "code",
   "execution_count": 17,
   "metadata": {
    "ExecuteTime": {
     "end_time": "2019-07-01T07:36:58.274475Z",
     "start_time": "2019-07-01T07:36:58.261725Z"
    }
   },
   "outputs": [
    {
     "name": "stderr",
     "output_type": "stream",
     "text": [
      "/anaconda3/envs/ropulus_v2/lib/python3.6/site-packages/sklearn/model_selection/_split.py:2179: FutureWarning: From version 0.21, test_size will always complement train_size unless both are specified.\n",
      "  FutureWarning)\n"
     ]
    }
   ],
   "source": [
    "from sklearn.model_selection import train_test_split\n",
    "\n",
    "X_train,X_test,y_train,y_test = train_test_split(corpus_data_features_nd[0:len(train_subset)],train_subset.polarity,random_state = 42,train_size = 0.8)"
   ]
  },
  {
   "cell_type": "markdown",
   "metadata": {},
   "source": [
    "## Training the model on train set"
   ]
  },
  {
   "cell_type": "code",
   "execution_count": 18,
   "metadata": {
    "ExecuteTime": {
     "end_time": "2019-07-01T07:36:59.977192Z",
     "start_time": "2019-07-01T07:36:59.964409Z"
    }
   },
   "outputs": [
    {
     "name": "stderr",
     "output_type": "stream",
     "text": [
      "/anaconda3/envs/ropulus_v2/lib/python3.6/site-packages/sklearn/linear_model/logistic.py:433: FutureWarning: Default solver will be changed to 'lbfgs' in 0.22. Specify a solver to silence this warning.\n",
      "  FutureWarning)\n"
     ]
    }
   ],
   "source": [
    "log_model = LogisticRegression()\n",
    "log_model = log_model.fit(X = X_train, y = y_train)"
   ]
  },
  {
   "cell_type": "markdown",
   "metadata": {},
   "source": [
    "## Predicting on the val set"
   ]
  },
  {
   "cell_type": "code",
   "execution_count": 19,
   "metadata": {
    "ExecuteTime": {
     "end_time": "2019-07-01T07:37:00.859138Z",
     "start_time": "2019-07-01T07:37:00.853081Z"
    }
   },
   "outputs": [],
   "source": [
    "y_pred = log_model.predict(X_test)"
   ]
  },
  {
   "cell_type": "markdown",
   "metadata": {},
   "source": [
    "## Checking the accuracy on validation set in %"
   ]
  },
  {
   "cell_type": "code",
   "execution_count": 20,
   "metadata": {
    "ExecuteTime": {
     "end_time": "2019-07-01T07:37:02.463485Z",
     "start_time": "2019-07-01T07:37:02.457225Z"
    }
   },
   "outputs": [
    {
     "data": {
      "text/plain": [
       "68.29"
      ]
     },
     "execution_count": 20,
     "metadata": {},
     "output_type": "execute_result"
    }
   ],
   "source": [
    "from sklearn.metrics import classification_report,accuracy_score\n",
    "\n",
    "acc = accuracy_score(y_test,y_pred)\n",
    "np.round(acc*100,2)"
   ]
  },
  {
   "cell_type": "markdown",
   "metadata": {},
   "source": [
    "## Testing on Test Samples"
   ]
  },
  {
   "cell_type": "code",
   "execution_count": 21,
   "metadata": {
    "ExecuteTime": {
     "end_time": "2019-07-01T07:37:05.976501Z",
     "start_time": "2019-07-01T07:37:04.353022Z"
    }
   },
   "outputs": [],
   "source": [
    "corpus_data_features_test = vectorizer.fit_transform(test_subset.content_norm.tolist())\n",
    "corpus_data_features_test_nd = corpus_data_features_test.toarray()"
   ]
  },
  {
   "cell_type": "markdown",
   "metadata": {
    "ExecuteTime": {
     "end_time": "2019-07-01T07:24:00.150046Z",
     "start_time": "2019-07-01T07:24:00.147327Z"
    }
   },
   "source": [
    "## Predicting on Test set"
   ]
  },
  {
   "cell_type": "code",
   "execution_count": 22,
   "metadata": {
    "ExecuteTime": {
     "end_time": "2019-07-01T07:37:06.295463Z",
     "start_time": "2019-07-01T07:37:06.292332Z"
    }
   },
   "outputs": [],
   "source": [
    "y_test_pred = log_model.predict(corpus_data_features_test_nd)"
   ]
  },
  {
   "cell_type": "markdown",
   "metadata": {
    "ExecuteTime": {
     "end_time": "2019-07-01T07:24:40.122966Z",
     "start_time": "2019-07-01T07:24:40.120195Z"
    }
   },
   "source": [
    "## Checking accuracy on test set in %"
   ]
  },
  {
   "cell_type": "code",
   "execution_count": 23,
   "metadata": {
    "ExecuteTime": {
     "end_time": "2019-07-01T07:37:06.620293Z",
     "start_time": "2019-07-01T07:37:06.611456Z"
    }
   },
   "outputs": [
    {
     "data": {
      "text/plain": [
       "58.05"
      ]
     },
     "execution_count": 23,
     "metadata": {},
     "output_type": "execute_result"
    }
   ],
   "source": [
    "y_test = test_subset.polarity.values\n",
    "acc = accuracy_score(y_test,y_test_pred)\n",
    "np.round(acc*100,2)"
   ]
  },
  {
   "cell_type": "markdown",
   "metadata": {},
   "source": [
    "## Checking output"
   ]
  },
  {
   "cell_type": "code",
   "execution_count": 24,
   "metadata": {
    "ExecuteTime": {
     "end_time": "2019-07-01T07:37:08.415458Z",
     "start_time": "2019-07-01T07:37:08.409976Z"
    }
   },
   "outputs": [],
   "source": [
    "test_subset['pred'] = y_test_pred"
   ]
  },
  {
   "cell_type": "code",
   "execution_count": 25,
   "metadata": {
    "ExecuteTime": {
     "end_time": "2019-07-01T07:37:08.809298Z",
     "start_time": "2019-07-01T07:37:08.797699Z"
    }
   },
   "outputs": [
    {
     "data": {
      "text/html": [
       "<div>\n",
       "<style scoped>\n",
       "    .dataframe tbody tr th:only-of-type {\n",
       "        vertical-align: middle;\n",
       "    }\n",
       "\n",
       "    .dataframe tbody tr th {\n",
       "        vertical-align: top;\n",
       "    }\n",
       "\n",
       "    .dataframe thead th {\n",
       "        text-align: right;\n",
       "    }\n",
       "</style>\n",
       "<table border=\"1\" class=\"dataframe\">\n",
       "  <thead>\n",
       "    <tr style=\"text-align: right;\">\n",
       "      <th></th>\n",
       "      <th>content</th>\n",
       "      <th>polarity</th>\n",
       "      <th>pred</th>\n",
       "    </tr>\n",
       "  </thead>\n",
       "  <tbody>\n",
       "    <tr>\n",
       "      <th>0</th>\n",
       "      <td>@noseashetero 1000/10 de verdad a ti que voy a...</td>\n",
       "      <td>P</td>\n",
       "      <td>P</td>\n",
       "    </tr>\n",
       "    <tr>\n",
       "      <th>1</th>\n",
       "      <td>@piscolabisaereo @HistoriaNG @SPosteguillo las...</td>\n",
       "      <td>P</td>\n",
       "      <td>N</td>\n",
       "    </tr>\n",
       "    <tr>\n",
       "      <th>3</th>\n",
       "      <td>@Jorge_Ruiz14 yo no tengo tiempo para esas cos...</td>\n",
       "      <td>N</td>\n",
       "      <td>P</td>\n",
       "    </tr>\n",
       "    <tr>\n",
       "      <th>4</th>\n",
       "      <td>@_MissChaotic_ ves ese brillo? es un coso que ...</td>\n",
       "      <td>N</td>\n",
       "      <td>N</td>\n",
       "    </tr>\n",
       "    <tr>\n",
       "      <th>5</th>\n",
       "      <td>Tengo una perrina adorable... Sabéis que me ac...</td>\n",
       "      <td>P</td>\n",
       "      <td>P</td>\n",
       "    </tr>\n",
       "  </tbody>\n",
       "</table>\n",
       "</div>"
      ],
      "text/plain": [
       "                                             content polarity pred\n",
       "0  @noseashetero 1000/10 de verdad a ti que voy a...        P    P\n",
       "1  @piscolabisaereo @HistoriaNG @SPosteguillo las...        P    N\n",
       "3  @Jorge_Ruiz14 yo no tengo tiempo para esas cos...        N    P\n",
       "4  @_MissChaotic_ ves ese brillo? es un coso que ...        N    N\n",
       "5  Tengo una perrina adorable... Sabéis que me ac...        P    P"
      ]
     },
     "execution_count": 25,
     "metadata": {},
     "output_type": "execute_result"
    }
   ],
   "source": [
    "test_subset[['content','polarity','pred']].head()"
   ]
  },
  {
   "cell_type": "code",
   "execution_count": null,
   "metadata": {},
   "outputs": [],
   "source": []
  }
 ],
 "metadata": {
  "kernelspec": {
   "display_name": "Python 3",
   "language": "python",
   "name": "python3"
  },
  "latex_envs": {
   "LaTeX_envs_menu_present": true,
   "autoclose": false,
   "autocomplete": true,
   "bibliofile": "biblio.bib",
   "cite_by": "apalike",
   "current_citInitial": 1,
   "eqLabelWithNumbers": true,
   "eqNumInitial": 1,
   "hotkeys": {
    "equation": "Ctrl-E",
    "itemize": "Ctrl-I"
   },
   "labels_anchors": false,
   "latex_user_defs": false,
   "report_style_numbering": false,
   "user_envs_cfg": false
  },
  "varInspector": {
   "cols": {
    "lenName": 16,
    "lenType": 16,
    "lenVar": 40
   },
   "kernels_config": {
    "python": {
     "delete_cmd_postfix": "",
     "delete_cmd_prefix": "del ",
     "library": "var_list.py",
     "varRefreshCmd": "print(var_dic_list())"
    },
    "r": {
     "delete_cmd_postfix": ") ",
     "delete_cmd_prefix": "rm(",
     "library": "var_list.r",
     "varRefreshCmd": "cat(var_dic_list()) "
    }
   },
   "types_to_exclude": [
    "module",
    "function",
    "builtin_function_or_method",
    "instance",
    "_Feature"
   ],
   "window_display": false
  }
 },
 "nbformat": 4,
 "nbformat_minor": 2
}
